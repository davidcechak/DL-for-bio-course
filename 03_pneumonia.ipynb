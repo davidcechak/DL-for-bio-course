{
  "nbformat": 4,
  "nbformat_minor": 0,
  "metadata": {
    "colab": {
      "provenance": [],
      "include_colab_link": true
    },
    "kernelspec": {
      "name": "python3",
      "display_name": "Python 3"
    },
    "language_info": {
      "name": "python"
    },
    "gpuClass": "standard",
    "accelerator": "GPU"
  },
  "cells": [
    {
      "cell_type": "markdown",
      "metadata": {
        "id": "view-in-github",
        "colab_type": "text"
      },
      "source": [
        "<a href=\"https://colab.research.google.com/github/davidcechak/DL-for-bio-course/blob/master/03_pneumonia.ipynb\" target=\"_parent\"><img src=\"https://colab.research.google.com/assets/colab-badge.svg\" alt=\"Open In Colab\"/></a>"
      ]
    },
    {
      "cell_type": "markdown",
      "source": [
        "## Setup"
      ],
      "metadata": {
        "id": "uWTVpIBJAFcr"
      }
    },
    {
      "cell_type": "code",
      "source": [
        "# OPTIONAL\n",
        "# Make kaggle account\n",
        "# Profile -> Account -> Create new API token\n",
        "\n",
        "# Runtime -> Change runtime type -> GPU -> Save\n",
        "# Started code source: https://www.kaggle.com/code/arunrk7/covid-19-detection-pytorch-tutorial"
      ],
      "metadata": {
        "id": "Hodx10sFUCed"
      },
      "execution_count": 1,
      "outputs": []
    },
    {
      "cell_type": "code",
      "source": [
        "#UPLOAD KAGGLE JSON FILE\n",
        "from google.colab import files\n",
        "files.upload()"
      ],
      "metadata": {
        "id": "ODl-6Rnzy_2o",
        "colab": {
          "base_uri": "https://localhost:8080/",
          "height": 39
        },
        "outputId": "df9c18ac-5cca-4447-8693-045887f3ea6d"
      },
      "execution_count": null,
      "outputs": [
        {
          "data": {
            "text/html": [
              "\n",
              "     <input type=\"file\" id=\"files-01fa06b2-964c-4692-a167-a91488457a4b\" name=\"files[]\" multiple disabled\n",
              "        style=\"border:none\" />\n",
              "     <output id=\"result-01fa06b2-964c-4692-a167-a91488457a4b\">\n",
              "      Upload widget is only available when the cell has been executed in the\n",
              "      current browser session. Please rerun this cell to enable.\n",
              "      </output>\n",
              "      <script>// Copyright 2017 Google LLC\n",
              "//\n",
              "// Licensed under the Apache License, Version 2.0 (the \"License\");\n",
              "// you may not use this file except in compliance with the License.\n",
              "// You may obtain a copy of the License at\n",
              "//\n",
              "//      http://www.apache.org/licenses/LICENSE-2.0\n",
              "//\n",
              "// Unless required by applicable law or agreed to in writing, software\n",
              "// distributed under the License is distributed on an \"AS IS\" BASIS,\n",
              "// WITHOUT WARRANTIES OR CONDITIONS OF ANY KIND, either express or implied.\n",
              "// See the License for the specific language governing permissions and\n",
              "// limitations under the License.\n",
              "\n",
              "/**\n",
              " * @fileoverview Helpers for google.colab Python module.\n",
              " */\n",
              "(function(scope) {\n",
              "function span(text, styleAttributes = {}) {\n",
              "  const element = document.createElement('span');\n",
              "  element.textContent = text;\n",
              "  for (const key of Object.keys(styleAttributes)) {\n",
              "    element.style[key] = styleAttributes[key];\n",
              "  }\n",
              "  return element;\n",
              "}\n",
              "\n",
              "// Max number of bytes which will be uploaded at a time.\n",
              "const MAX_PAYLOAD_SIZE = 100 * 1024;\n",
              "\n",
              "function _uploadFiles(inputId, outputId) {\n",
              "  const steps = uploadFilesStep(inputId, outputId);\n",
              "  const outputElement = document.getElementById(outputId);\n",
              "  // Cache steps on the outputElement to make it available for the next call\n",
              "  // to uploadFilesContinue from Python.\n",
              "  outputElement.steps = steps;\n",
              "\n",
              "  return _uploadFilesContinue(outputId);\n",
              "}\n",
              "\n",
              "// This is roughly an async generator (not supported in the browser yet),\n",
              "// where there are multiple asynchronous steps and the Python side is going\n",
              "// to poll for completion of each step.\n",
              "// This uses a Promise to block the python side on completion of each step,\n",
              "// then passes the result of the previous step as the input to the next step.\n",
              "function _uploadFilesContinue(outputId) {\n",
              "  const outputElement = document.getElementById(outputId);\n",
              "  const steps = outputElement.steps;\n",
              "\n",
              "  const next = steps.next(outputElement.lastPromiseValue);\n",
              "  return Promise.resolve(next.value.promise).then((value) => {\n",
              "    // Cache the last promise value to make it available to the next\n",
              "    // step of the generator.\n",
              "    outputElement.lastPromiseValue = value;\n",
              "    return next.value.response;\n",
              "  });\n",
              "}\n",
              "\n",
              "/**\n",
              " * Generator function which is called between each async step of the upload\n",
              " * process.\n",
              " * @param {string} inputId Element ID of the input file picker element.\n",
              " * @param {string} outputId Element ID of the output display.\n",
              " * @return {!Iterable<!Object>} Iterable of next steps.\n",
              " */\n",
              "function* uploadFilesStep(inputId, outputId) {\n",
              "  const inputElement = document.getElementById(inputId);\n",
              "  inputElement.disabled = false;\n",
              "\n",
              "  const outputElement = document.getElementById(outputId);\n",
              "  outputElement.innerHTML = '';\n",
              "\n",
              "  const pickedPromise = new Promise((resolve) => {\n",
              "    inputElement.addEventListener('change', (e) => {\n",
              "      resolve(e.target.files);\n",
              "    });\n",
              "  });\n",
              "\n",
              "  const cancel = document.createElement('button');\n",
              "  inputElement.parentElement.appendChild(cancel);\n",
              "  cancel.textContent = 'Cancel upload';\n",
              "  const cancelPromise = new Promise((resolve) => {\n",
              "    cancel.onclick = () => {\n",
              "      resolve(null);\n",
              "    };\n",
              "  });\n",
              "\n",
              "  // Wait for the user to pick the files.\n",
              "  const files = yield {\n",
              "    promise: Promise.race([pickedPromise, cancelPromise]),\n",
              "    response: {\n",
              "      action: 'starting',\n",
              "    }\n",
              "  };\n",
              "\n",
              "  cancel.remove();\n",
              "\n",
              "  // Disable the input element since further picks are not allowed.\n",
              "  inputElement.disabled = true;\n",
              "\n",
              "  if (!files) {\n",
              "    return {\n",
              "      response: {\n",
              "        action: 'complete',\n",
              "      }\n",
              "    };\n",
              "  }\n",
              "\n",
              "  for (const file of files) {\n",
              "    const li = document.createElement('li');\n",
              "    li.append(span(file.name, {fontWeight: 'bold'}));\n",
              "    li.append(span(\n",
              "        `(${file.type || 'n/a'}) - ${file.size} bytes, ` +\n",
              "        `last modified: ${\n",
              "            file.lastModifiedDate ? file.lastModifiedDate.toLocaleDateString() :\n",
              "                                    'n/a'} - `));\n",
              "    const percent = span('0% done');\n",
              "    li.appendChild(percent);\n",
              "\n",
              "    outputElement.appendChild(li);\n",
              "\n",
              "    const fileDataPromise = new Promise((resolve) => {\n",
              "      const reader = new FileReader();\n",
              "      reader.onload = (e) => {\n",
              "        resolve(e.target.result);\n",
              "      };\n",
              "      reader.readAsArrayBuffer(file);\n",
              "    });\n",
              "    // Wait for the data to be ready.\n",
              "    let fileData = yield {\n",
              "      promise: fileDataPromise,\n",
              "      response: {\n",
              "        action: 'continue',\n",
              "      }\n",
              "    };\n",
              "\n",
              "    // Use a chunked sending to avoid message size limits. See b/62115660.\n",
              "    let position = 0;\n",
              "    do {\n",
              "      const length = Math.min(fileData.byteLength - position, MAX_PAYLOAD_SIZE);\n",
              "      const chunk = new Uint8Array(fileData, position, length);\n",
              "      position += length;\n",
              "\n",
              "      const base64 = btoa(String.fromCharCode.apply(null, chunk));\n",
              "      yield {\n",
              "        response: {\n",
              "          action: 'append',\n",
              "          file: file.name,\n",
              "          data: base64,\n",
              "        },\n",
              "      };\n",
              "\n",
              "      let percentDone = fileData.byteLength === 0 ?\n",
              "          100 :\n",
              "          Math.round((position / fileData.byteLength) * 100);\n",
              "      percent.textContent = `${percentDone}% done`;\n",
              "\n",
              "    } while (position < fileData.byteLength);\n",
              "  }\n",
              "\n",
              "  // All done.\n",
              "  yield {\n",
              "    response: {\n",
              "      action: 'complete',\n",
              "    }\n",
              "  };\n",
              "}\n",
              "\n",
              "scope.google = scope.google || {};\n",
              "scope.google.colab = scope.google.colab || {};\n",
              "scope.google.colab._files = {\n",
              "  _uploadFiles,\n",
              "  _uploadFilesContinue,\n",
              "};\n",
              "})(self);\n",
              "</script> "
            ],
            "text/plain": [
              "<IPython.core.display.HTML object>"
            ]
          },
          "metadata": {},
          "output_type": "display_data"
        }
      ]
    },
    {
      "cell_type": "code",
      "source": [
        "!echo '{\"username\":\"wildauapi\",\"key\":\"0120eef5b0949e46dc5fe54f5b2945c0\"}' > kaggle.json"
      ],
      "metadata": {
        "id": "66hKsAd4uoBF"
      },
      "execution_count": null,
      "outputs": []
    },
    {
      "cell_type": "code",
      "source": [
        "!pip install torchmetrics -q\n",
        "!pip install -q kaggle\n",
        "!mkdir ~/.kaggle/\n",
        "!cp kaggle.json ~/.kaggle/\n",
        "!chmod 600 ~/.kaggle/kaggle.json\n",
        "!kaggle datasets download -d paultimothymooney/chest-xray-pneumonia\n",
        "!unzip -qq chest-xray-pneumonia.zip\n"
      ],
      "metadata": {
        "id": "Mwrqnhf9zH3G"
      },
      "execution_count": null,
      "outputs": []
    },
    {
      "cell_type": "markdown",
      "source": [
        "## Data loading and exploration"
      ],
      "metadata": {
        "id": "RzWLPcZUAJQr"
      }
    },
    {
      "cell_type": "code",
      "source": [
        "import os\n",
        "TRAIN_DATA_PATH = './chest_xray/train'\n",
        "class_names = os.listdir(TRAIN_DATA_PATH)\n",
        "class_names"
      ],
      "metadata": {
        "id": "Rhev83dS0Xb-"
      },
      "execution_count": null,
      "outputs": []
    },
    {
      "cell_type": "code",
      "source": [
        "image_count = {}\n",
        "for i in class_names:\n",
        "    image_count[i] = len(os.listdir(os.path.join(TRAIN_DATA_PATH,i)))\n",
        "\n",
        "print(image_count)"
      ],
      "metadata": {
        "id": "dH4g5SRP0pZQ"
      },
      "execution_count": null,
      "outputs": []
    },
    {
      "cell_type": "code",
      "source": [
        "from random import shuffle\n",
        "from matplotlib import pyplot as plt\n",
        "import cv2\n",
        "fig, axs = plt.subplots(2,4, figsize=(16,8))\n",
        "\n",
        "for i,class_name in enumerate(class_names):\n",
        "  img_paths = os.listdir(f'{TRAIN_DATA_PATH}/{class_name}')\n",
        "  shuffle(img_paths)\n",
        "\n",
        "  for j,image in enumerate(img_paths[:4]):\n",
        "      img = cv2.imread(os.path.join(f'{TRAIN_DATA_PATH}/{class_name}', image))\n",
        "      axs[i][j].title.set_text(class_name)\n",
        "      axs[i][j].imshow(img)\n",
        "\n",
        "fig.show()"
      ],
      "metadata": {
        "id": "CWoFzFeU3Od1"
      },
      "execution_count": null,
      "outputs": []
    },
    {
      "cell_type": "code",
      "source": [
        "normal_images_path = f'{TRAIN_DATA_PATH}/NORMAL'\n",
        "img_file = os.listdir(normal_images_path)[0]\n",
        "img_path = os.path.join(normal_images_path, img_file)\n",
        "sample_X = cv2.imread(img_path)\n",
        "print(sample_X)"
      ],
      "metadata": {
        "id": "vlKj-OGJYqJ5"
      },
      "execution_count": null,
      "outputs": []
    },
    {
      "cell_type": "code",
      "source": [
        "import numpy as np\n",
        "print('Shape:',sample_X.shape)\n",
        "print('Std:', np.std(sample_X))\n",
        "print('Mean:', np.mean(sample_X))\n",
        "print('Max:', np.max(sample_X))\n",
        "print('Min:', np.min(sample_X))"
      ],
      "metadata": {
        "id": "-dgxNMvfZWva"
      },
      "execution_count": null,
      "outputs": []
    },
    {
      "cell_type": "code",
      "source": [
        "from torchvision import datasets, models, transforms\n",
        "\n",
        "data_transforms = transforms.Compose([\n",
        "    transforms.Resize((256,256)),\n",
        "    transforms.RandomRotation(degrees = (-20,+20)),\n",
        "    transforms.CenterCrop(size=224),\n",
        "    transforms.ToTensor(),  #automaticaly scales to 0-1\n",
        "])\n",
        "\n",
        "# Normalizes pixel values to [0, 1] range - If the input is a PIL Image (which typically has pixel values as integers from 0-255),\n",
        "# Rearranges dimensions - Changes the image from (Height, Width, Channels) format to (Channels, Height, Width) format, which is the expected input format for PyTorch models"
      ],
      "metadata": {
        "id": "u8Ip8dce5ZJa"
      },
      "execution_count": null,
      "outputs": []
    },
    {
      "cell_type": "code",
      "source": [
        "train_data = datasets.ImageFolder(TRAIN_DATA_PATH, transform=data_transforms)"
      ],
      "metadata": {
        "id": "ikvTkP2I7dLb"
      },
      "execution_count": null,
      "outputs": []
    },
    {
      "cell_type": "code",
      "source": [
        "train_data.class_to_idx"
      ],
      "metadata": {
        "id": "gJEM2STAB2EA"
      },
      "execution_count": null,
      "outputs": []
    },
    {
      "cell_type": "code",
      "source": [
        "import numpy as np\n",
        "from PIL import Image\n",
        "import torch\n",
        "image_tensor = train_data.__getitem__(10)[0]\n",
        "print(image_tensor.size())\n",
        "print(torch.max(image_tensor))\n",
        "print(torch.min(image_tensor))\n",
        "\n",
        "to_image_func = transforms.ToPILImage()\n",
        "to_image_func(image_tensor)"
      ],
      "metadata": {
        "id": "CtEpkZjw9IdB"
      },
      "execution_count": null,
      "outputs": []
    },
    {
      "cell_type": "code",
      "source": [
        "import torch\n",
        "train_loader = torch.utils.data.DataLoader(train_data, batch_size=32, shuffle=True)"
      ],
      "metadata": {
        "id": "8sHvL0fwBmsT"
      },
      "execution_count": null,
      "outputs": []
    },
    {
      "cell_type": "markdown",
      "source": [
        "## Models"
      ],
      "metadata": {
        "id": "FLlQGD4VAQqN"
      }
    },
    {
      "cell_type": "markdown",
      "source": [
        "### MLP"
      ],
      "metadata": {
        "id": "b9TAhZnmASGv"
      }
    },
    {
      "cell_type": "code",
      "source": [
        "import torch.nn as nn\n",
        "class MLP(nn.Module):\n",
        "  def __init__(self, input_size, hidden_size, num_classes):\n",
        "    super().__init__()\n",
        "    self.fc1 = nn.Linear(input_size, hidden_size)\n",
        "    self.relu = nn.ReLU()\n",
        "    self.fc2 = nn.Linear(hidden_size, num_classes)\n",
        "    # self.softmax = nn.Softmax(dim=-1) # CrossEntropyLoss applies LogSoftmax internally, so no softmax necessery\n",
        "\n",
        "\n",
        "  def forward(self,x):\n",
        "    out = self.fc1(x)\n",
        "    out = self.relu(out)\n",
        "    out = self.fc2(out)\n",
        "    # out = self.softmax(out)\n",
        "    return out"
      ],
      "metadata": {
        "id": "VXE0k_ZP0k8O"
      },
      "execution_count": null,
      "outputs": []
    },
    {
      "cell_type": "markdown",
      "source": [
        "### CNN"
      ],
      "metadata": {
        "id": "dQ5r8cz1AUfW"
      }
    },
    {
      "cell_type": "code",
      "source": [
        "class CNN(nn.Module):\n",
        "    def __init__(self,num_classes=2):\n",
        "        super().__init__()\n",
        "        #TODO\n",
        "        # Create a convolutional neural network\n",
        "        # Input = 3x224x224 image, Output = 2 classes probabilities\n",
        "        # Use nn.Conv2d layer\n",
        "        # Use nn.MaxPool2d layer\n",
        "        # Use nn.Flatten layer\n",
        "        # Use activation function after Convolutional layer\n",
        "\n",
        "    def forward(self,input):\n",
        "        #TODO\n",
        "        pass\n"
      ],
      "metadata": {
        "id": "ZMMG6L4z5DTk"
      },
      "execution_count": null,
      "outputs": []
    },
    {
      "cell_type": "code",
      "source": [
        "# CNN test\n",
        "# model = CNN(num_classes=2)\n",
        "# model(torch.rand(1, 3, 224, 224))"
      ],
      "metadata": {
        "id": "xyFpQNfj5IkK"
      },
      "execution_count": null,
      "outputs": []
    },
    {
      "cell_type": "markdown",
      "source": [
        "### Pretrained"
      ],
      "metadata": {
        "id": "TqviHtoVAaYp"
      }
    },
    {
      "cell_type": "code",
      "source": [
        "class MobileNet(nn.Module):\n",
        "  def __init__(self, num_classes):\n",
        "    super().__init__()\n",
        "    self.model = models.mobilenet_v3_small(pretrained=True)\n",
        "    last_layer_input_features = self.model.classifier[0].in_features\n",
        "    # Optional freezing\n",
        "    for param in model.parameters():\n",
        "      param.requires_grad = False\n",
        "\n",
        "    self.model.classifier = nn.Linear(last_layer_input_features, num_classes)\n",
        "    # self.softmax = nn.Softmax(dim=-1)\n",
        "\n",
        "  def forward(self,x):\n",
        "    out = self.model(x)\n",
        "    # out = self.softmax(out)\n",
        "    return out\n"
      ],
      "metadata": {
        "id": "IEy5oMyRNx6_"
      },
      "execution_count": null,
      "outputs": []
    },
    {
      "cell_type": "markdown",
      "source": [
        "## Model instance"
      ],
      "metadata": {
        "id": "-CZSFDz_Ac_i"
      }
    },
    {
      "cell_type": "code",
      "source": [
        "model = MLP(3*224*224, hidden_size=100, num_classes=2)\n",
        "model(torch.rand(32, 3*224*224)).size()"
      ],
      "metadata": {
        "id": "T9PatsIy02yG"
      },
      "execution_count": null,
      "outputs": []
    },
    {
      "cell_type": "code",
      "source": [
        "# model = CNN(num_classes=2)\n",
        "# model(torch.rand(32, 3, 224, 224)).size()"
      ],
      "metadata": {
        "id": "LGpjcJNZZKNX"
      },
      "execution_count": null,
      "outputs": []
    },
    {
      "cell_type": "code",
      "source": [
        "# model = MobileNet(num_classes=2)\n",
        "# model(torch.rand(32, 3, 224, 224)).size()"
      ],
      "metadata": {
        "id": "CpgcW9FM0ZU6"
      },
      "execution_count": null,
      "outputs": []
    },
    {
      "cell_type": "code",
      "source": [
        "print('number of parameters')\n",
        "print(sum(p.numel() for p in model.parameters() if p.requires_grad))"
      ],
      "metadata": {
        "id": "7ffVNpb7Sc-V"
      },
      "execution_count": null,
      "outputs": []
    },
    {
      "cell_type": "markdown",
      "source": [
        "## Balancing"
      ],
      "metadata": {
        "id": "RJoqNFaIyLQz"
      }
    },
    {
      "cell_type": "code",
      "source": [
        "# weights = np.array([image_count['PNEUMONIA'],image_count['NORMAL']])\n",
        "# weights = weights/sum(image_count.values())\n",
        "# print(weights)\n",
        "# print(train_data.class_to_idx)\n",
        "# criterion = nn.CrossEntropyLoss(weight=torch.tensor(weights).float().cuda())\n",
        "# optimizer = torch.optim.Adam(model.parameters(), lr=1e-3)\n",
        "# #Further improvements - more data"
      ],
      "metadata": {
        "id": "Anm8XCUp18F4"
      },
      "execution_count": null,
      "outputs": []
    },
    {
      "cell_type": "markdown",
      "source": [
        "## Training"
      ],
      "metadata": {
        "id": "ZNMKnXUTAjh3"
      }
    },
    {
      "cell_type": "code",
      "source": [
        "model = MLP(3*224*224, hidden_size=100, num_classes=2)\n"
      ],
      "metadata": {
        "id": "9iplf1M5yGDT"
      },
      "execution_count": null,
      "outputs": []
    },
    {
      "cell_type": "code",
      "source": [
        "criterion = nn.CrossEntropyLoss()\n",
        "optimizer = torch.optim.Adam(model.parameters(), lr=1e-3)"
      ],
      "metadata": {
        "id": "enj6l9sJUG_T"
      },
      "execution_count": null,
      "outputs": []
    },
    {
      "cell_type": "code",
      "source": [
        "from torchmetrics import Accuracy\n",
        "\n",
        "accuracy_function = Accuracy(task='multiclass', num_classes=2)\n",
        "\n",
        "model.cuda()\n",
        "accuracy_function.cuda()\n",
        "\n",
        "num_epochs = 2\n",
        "\n",
        "for epoch in range(num_epochs):\n",
        "  for batch_idx, (inputs, labels) in enumerate(train_loader):\n",
        "    # inputs = inputs.to('cuda')\n",
        "    inputs = inputs.reshape(-1,3*224*224).to('cuda') #For MLP\n",
        "    labels = labels.to('cuda')\n",
        "\n",
        "    optimizer.zero_grad()\n",
        "    outputs = model(inputs)\n",
        "    loss = criterion(outputs, labels)\n",
        "    loss.backward()\n",
        "    optimizer.step()\n",
        "\n",
        "    if (batch_idx) % 10 == 0:\n",
        "      print('Epoch [%d/%d], Step [%d/%d], Loss: %.4f, Accuracy: %.4f'\n",
        "        %(epoch+1, num_epochs, batch_idx, len(train_loader.dataset)//inputs.size()[0], loss.item(), accuracy_function(outputs,labels)))\n",
        "\n"
      ],
      "metadata": {
        "id": "muJ0g0IxUYN1"
      },
      "execution_count": null,
      "outputs": []
    },
    {
      "cell_type": "markdown",
      "source": [
        "## Evaluation"
      ],
      "metadata": {
        "id": "q07v3snxAmK0"
      }
    },
    {
      "cell_type": "code",
      "source": [
        "from torchmetrics import ConfusionMatrix\n",
        "from sklearn import metrics\n",
        "from matplotlib import pyplot as plt\n",
        "from tqdm import tqdm\n",
        "\n",
        "\n",
        "def get_metrics(model, loader):\n",
        "  accuracy_function = Accuracy(task='multiclass', num_classes=2)\n",
        "  #confusion matrix metric\n",
        "  cm_function = ConfusionMatrix(task=\"multiclass\", num_classes=2)\n",
        "  accuracy_function.cuda()\n",
        "  cm_function.cuda()\n",
        "\n",
        "  all_predictions = []\n",
        "  all_labels = []\n",
        "\n",
        "  model.eval()\n",
        "  with torch.no_grad():\n",
        "    for images,labels in tqdm(loader):\n",
        "      # images = images.cuda()\n",
        "      images = images.reshape(-1,3*224*224).to('cuda') #FOR MLP\n",
        "      labels = labels.cuda()\n",
        "\n",
        "      output = model(images)\n",
        "      all_predictions.append(output)\n",
        "      all_labels.append(labels)\n",
        "\n",
        "  #torch.cat concats tensors along new dimension\n",
        "  print('\\nAccuracy:', accuracy_function(torch.cat(all_predictions), torch.cat(all_labels)).item())\n",
        "  conf_matrix = cm_function(torch.cat(all_predictions), torch.cat(all_labels))\n",
        "  cm_display  = metrics.ConfusionMatrixDisplay(\n",
        "      confusion_matrix = conf_matrix.cpu().numpy(),\n",
        "      display_labels = ['NORMAL', 'PNEUMONIA']\n",
        "  )\n",
        "  cm_display.plot()\n",
        "  plt.show()"
      ],
      "metadata": {
        "id": "DPSrPxGWmauH"
      },
      "execution_count": null,
      "outputs": []
    },
    {
      "cell_type": "code",
      "source": [
        "get_metrics(model, train_loader)"
      ],
      "metadata": {
        "id": "9gZQeTWSmbom"
      },
      "execution_count": null,
      "outputs": []
    },
    {
      "cell_type": "markdown",
      "source": [
        "## Testing"
      ],
      "metadata": {
        "id": "3HwTzdtn0LnT"
      }
    },
    {
      "cell_type": "code",
      "source": [
        "TEST_DATA_PATH = './chest_xray/test'\n",
        "# dont use augmentations for test\n",
        "test_data_transforms = transforms.Compose([\n",
        "    transforms.Resize((224,224)),\n",
        "    transforms.ToTensor(),\n",
        "])\n",
        "test_data = datasets.ImageFolder(TEST_DATA_PATH, transform=test_data_transforms)\n",
        "print(test_data.class_to_idx)\n",
        "test_loader = torch.utils.data.DataLoader(test_data, batch_size=32)\n",
        "\n",
        "get_metrics(model, test_loader)"
      ],
      "metadata": {
        "id": "SADgEv_-m3yJ"
      },
      "execution_count": null,
      "outputs": []
    }
  ]
}